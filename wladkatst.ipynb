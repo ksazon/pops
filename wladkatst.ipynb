{
 "cells": [
  {
   "cell_type": "code",
   "execution_count": null,
   "metadata": {},
   "outputs": [],
   "source": [
    "import os\n",
    "import PIL\n",
    "from PIL import Image\n",
    "from PIL.ExifTags import TAGS, GPSTAGS\n",
    "import pathlib\n",
    "\n",
    "import folium\n",
    "import base64\n",
    "from folium import IFrame\n",
    "from io import BytesIO"
   ]
  },
  {
   "cell_type": "code",
   "execution_count": null,
   "metadata": {},
   "outputs": [],
   "source": [
    "def decimal_coords(coords, ref):\n",
    "    decimal_degrees = coords[0] + coords[1] / 60.0 + coords[2] / 3600.0\n",
    "    if ref == \"S\" or ref == \"W\":\n",
    "        decimal_degrees = -decimal_degrees\n",
    "    return decimal_degrees"
   ]
  },
  {
   "cell_type": "code",
   "execution_count": null,
   "metadata": {},
   "outputs": [],
   "source": []
  },
  {
   "cell_type": "code",
   "execution_count": null,
   "metadata": {},
   "outputs": [],
   "source": [
    "def get_exif(file_name):\n",
    "    image = PIL.Image.open(file_name)\n",
    "    return image.getexif()\n",
    "\n",
    "\n",
    "def get_geo(exif):\n",
    "    for key, value in TAGS.items():\n",
    "        if value == \"GPSInfo\":\n",
    "            break\n",
    "    if value != \"GPSInfo\":\n",
    "        raise Exception()\n",
    "    gps_info = exif.get_ifd(key)\n",
    "    return {GPSTAGS.get(key, key): value for key, value in gps_info.items()}\n",
    "\n",
    "\n",
    "def get_exif_old(image_file_path):\n",
    "    exif_table = {}\n",
    "    image = PIL.Image.open(image_file_path)\n",
    "    info = image.getexif()\n",
    "\n",
    "    for tag, value in info.items():\n",
    "        decoded = TAGS.get(tag, tag)\n",
    "        exif_table[decoded] = value\n",
    "\n",
    "    return exif_table"
   ]
  },
  {
   "cell_type": "code",
   "execution_count": null,
   "metadata": {},
   "outputs": [],
   "source": [
    "base_dir = pathlib.Path(r\"/home/krzysztof/tmp/wtst\")"
   ]
  },
  {
   "cell_type": "code",
   "execution_count": null,
   "metadata": {},
   "outputs": [],
   "source": [
    "def get_coords(img_path):\n",
    "    try:\n",
    "        geo = get_geo(get_exif(img_path))\n",
    "        return [\n",
    "            decimal_coords(geo[\"GPSLatitude\"], geo[\"GPSLatitudeRef\"]),\n",
    "            decimal_coords(geo[\"GPSLongitude\"], geo[\"GPSLongitudeRef\"]),\n",
    "        ]\n",
    "    except Exception:\n",
    "        return None"
   ]
  },
  {
   "cell_type": "code",
   "execution_count": null,
   "metadata": {},
   "outputs": [],
   "source": [
    "for img in os.listdir(base_dir):\n",
    "    # if pathlib.Path(img).suffix == \".pdf\":\n",
    "    #     print(\"pdf\")\n",
    "    #     continue\n",
    "\n",
    "    if pathlib.Path(img).suffix.lower() not in [\".jpg\", \".jpeg\"]:\n",
    "        print(\"not jpg\")\n",
    "        continue\n",
    "    \n",
    "    p = base_dir / img\n",
    "\n",
    "    print(get_exif_old(p).get(\"Model\"), img)\n",
    "    try:\n",
    "        print(get_geo(get_exif(p)))\n",
    "    except Exception as e:\n",
    "        print(get_exif_old(p))"
   ]
  },
  {
   "cell_type": "code",
   "execution_count": null,
   "metadata": {},
   "outputs": [],
   "source": [
    "def add_marker(p, m):\n",
    "    coords = get_coords(p)\n",
    "\n",
    "    if not coords:\n",
    "        return m\n",
    "\n",
    "    buffered = BytesIO()\n",
    "\n",
    "    image = (\n",
    "        Image.open(p)\n",
    "        .resize((400, 350), Image.LANCZOS)\n",
    "        .save(buffered, format=\"JPEG\")\n",
    "    )\n",
    "\n",
    "    encoded = base64.b64encode(buffered.getvalue())\n",
    "\n",
    "    html = '<img src=\"data:image/png;base64,{}\">'.format\n",
    "    iframe = IFrame(html(encoded.decode(\"UTF-8\")), width=400, height=350)\n",
    "    popup = folium.Popup(iframe, max_width=400)\n",
    "\n",
    "    folium.Marker(\n",
    "        location=coords,\n",
    "        popup=popup,\n",
    "    ).add_to(m)\n",
    "\n",
    "    return m"
   ]
  },
  {
   "cell_type": "code",
   "execution_count": null,
   "metadata": {},
   "outputs": [],
   "source": [
    "m = folium.Map(location=[40.7128, -74.0060], zoom_start=12)\n",
    "\n",
    "for p in [os.path.join(base_dir, p) for p in os.listdir(base_dir)]:\n",
    "    if pathlib.Path(p).suffix.lower() not in [\".jpg\", \".jpeg\"]:\n",
    "        continue\n",
    "    if not p :\n",
    "        continue\n",
    "    m = add_marker(p, m)\n",
    "\n",
    "m"
   ]
  },
  {
   "cell_type": "code",
   "execution_count": null,
   "metadata": {},
   "outputs": [],
   "source": [
    "m.save(\"pops.html\")"
   ]
  },
  {
   "cell_type": "code",
   "execution_count": null,
   "metadata": {},
   "outputs": [],
   "source": []
  }
 ],
 "metadata": {
  "kernelspec": {
   "display_name": ".venv",
   "language": "python",
   "name": "python3"
  },
  "language_info": {
   "codemirror_mode": {
    "name": "ipython",
    "version": 3
   },
   "file_extension": ".py",
   "mimetype": "text/x-python",
   "name": "python",
   "nbconvert_exporter": "python",
   "pygments_lexer": "ipython3",
   "version": "3.10.6"
  },
  "orig_nbformat": 4
 },
 "nbformat": 4,
 "nbformat_minor": 2
}
